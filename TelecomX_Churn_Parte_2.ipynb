{
  "cells": [
    {
      "cell_type": "markdown",
      "id": "9983f5f3",
      "metadata": {
        "id": "9983f5f3"
      },
      "source": [
        "# 📊 Telecom X - Parte 2: Predicción de Churn"
      ]
    },
    {
      "cell_type": "code",
      "execution_count": 1,
      "id": "59cd25a2",
      "metadata": {
        "id": "59cd25a2"
      },
      "outputs": [],
      "source": [
        "# Importación de librerías\n",
        "import pandas as pd\n",
        "import numpy as np\n",
        "import matplotlib.pyplot as plt\n",
        "import seaborn as sns\n",
        "\n",
        "from sklearn.model_selection import train_test_split\n",
        "from sklearn.preprocessing import StandardScaler\n",
        "from sklearn.metrics import classification_report, confusion_matrix, accuracy_score\n",
        "from sklearn.linear_model import LogisticRegression\n",
        "\n",
        "from imblearn.over_sampling import SMOTE\n"
      ]
    },
    {
      "cell_type": "markdown",
      "id": "787e325f",
      "metadata": {
        "id": "787e325f"
      },
      "source": [
        "## 1. Carga de Datos"
      ]
    },
    {
      "cell_type": "code",
      "execution_count": 2,
      "id": "66a540fc",
      "metadata": {
        "colab": {
          "base_uri": "https://localhost:8080/",
          "height": 342
        },
        "id": "66a540fc",
        "outputId": "1f8266cb-c3e4-41ff-d1fa-764089bd7618"
      },
      "outputs": [
        {
          "output_type": "stream",
          "name": "stdout",
          "text": [
            "Dimensiones: (7043, 21)\n"
          ]
        },
        {
          "output_type": "execute_result",
          "data": {
            "text/plain": [
              "   customerID  Churn customer.gender  customer.SeniorCitizen customer.Partner  \\\n",
              "0  0002-ORFBO      0          Female                       0              Yes   \n",
              "1  0003-MKNFE      0            Male                       0               No   \n",
              "2  0004-TLHLJ      1            Male                       0               No   \n",
              "3  0011-IGKFF      1            Male                       1              Yes   \n",
              "4  0013-EXCHZ      1          Female                       1              Yes   \n",
              "\n",
              "  customer.Dependents  customer.tenure phone.PhoneService phone.MultipleLines  \\\n",
              "0                 Yes                9                Yes                  No   \n",
              "1                  No                9                Yes                 Yes   \n",
              "2                  No                4                Yes                  No   \n",
              "3                  No               13                Yes                  No   \n",
              "4                  No                3                Yes                  No   \n",
              "\n",
              "  internet.InternetService  ... internet.OnlineBackup  \\\n",
              "0                      DSL  ...                   Yes   \n",
              "1                      DSL  ...                    No   \n",
              "2              Fiber optic  ...                    No   \n",
              "3              Fiber optic  ...                   Yes   \n",
              "4              Fiber optic  ...                    No   \n",
              "\n",
              "  internet.DeviceProtection internet.TechSupport internet.StreamingTV  \\\n",
              "0                        No                  Yes                  Yes   \n",
              "1                        No                   No                   No   \n",
              "2                       Yes                   No                   No   \n",
              "3                       Yes                   No                  Yes   \n",
              "4                        No                  Yes                  Yes   \n",
              "\n",
              "  internet.StreamingMovies account.Contract account.PaperlessBilling  \\\n",
              "0                       No         One year                      Yes   \n",
              "1                      Yes   Month-to-month                       No   \n",
              "2                       No   Month-to-month                      Yes   \n",
              "3                      Yes   Month-to-month                      Yes   \n",
              "4                       No   Month-to-month                      Yes   \n",
              "\n",
              "  account.PaymentMethod account.Charges.Monthly  account.Charges.Total  \n",
              "0          Mailed check                    65.6                 593.30  \n",
              "1          Mailed check                    59.9                 542.40  \n",
              "2      Electronic check                    73.9                 280.85  \n",
              "3      Electronic check                    98.0                1237.85  \n",
              "4          Mailed check                    83.9                 267.40  \n",
              "\n",
              "[5 rows x 21 columns]"
            ],
            "text/html": [
              "\n",
              "  <div id=\"df-854a7420-0fcf-4a1b-8bbe-e024710c9c4d\" class=\"colab-df-container\">\n",
              "    <div>\n",
              "<style scoped>\n",
              "    .dataframe tbody tr th:only-of-type {\n",
              "        vertical-align: middle;\n",
              "    }\n",
              "\n",
              "    .dataframe tbody tr th {\n",
              "        vertical-align: top;\n",
              "    }\n",
              "\n",
              "    .dataframe thead th {\n",
              "        text-align: right;\n",
              "    }\n",
              "</style>\n",
              "<table border=\"1\" class=\"dataframe\">\n",
              "  <thead>\n",
              "    <tr style=\"text-align: right;\">\n",
              "      <th></th>\n",
              "      <th>customerID</th>\n",
              "      <th>Churn</th>\n",
              "      <th>customer.gender</th>\n",
              "      <th>customer.SeniorCitizen</th>\n",
              "      <th>customer.Partner</th>\n",
              "      <th>customer.Dependents</th>\n",
              "      <th>customer.tenure</th>\n",
              "      <th>phone.PhoneService</th>\n",
              "      <th>phone.MultipleLines</th>\n",
              "      <th>internet.InternetService</th>\n",
              "      <th>...</th>\n",
              "      <th>internet.OnlineBackup</th>\n",
              "      <th>internet.DeviceProtection</th>\n",
              "      <th>internet.TechSupport</th>\n",
              "      <th>internet.StreamingTV</th>\n",
              "      <th>internet.StreamingMovies</th>\n",
              "      <th>account.Contract</th>\n",
              "      <th>account.PaperlessBilling</th>\n",
              "      <th>account.PaymentMethod</th>\n",
              "      <th>account.Charges.Monthly</th>\n",
              "      <th>account.Charges.Total</th>\n",
              "    </tr>\n",
              "  </thead>\n",
              "  <tbody>\n",
              "    <tr>\n",
              "      <th>0</th>\n",
              "      <td>0002-ORFBO</td>\n",
              "      <td>0</td>\n",
              "      <td>Female</td>\n",
              "      <td>0</td>\n",
              "      <td>Yes</td>\n",
              "      <td>Yes</td>\n",
              "      <td>9</td>\n",
              "      <td>Yes</td>\n",
              "      <td>No</td>\n",
              "      <td>DSL</td>\n",
              "      <td>...</td>\n",
              "      <td>Yes</td>\n",
              "      <td>No</td>\n",
              "      <td>Yes</td>\n",
              "      <td>Yes</td>\n",
              "      <td>No</td>\n",
              "      <td>One year</td>\n",
              "      <td>Yes</td>\n",
              "      <td>Mailed check</td>\n",
              "      <td>65.6</td>\n",
              "      <td>593.30</td>\n",
              "    </tr>\n",
              "    <tr>\n",
              "      <th>1</th>\n",
              "      <td>0003-MKNFE</td>\n",
              "      <td>0</td>\n",
              "      <td>Male</td>\n",
              "      <td>0</td>\n",
              "      <td>No</td>\n",
              "      <td>No</td>\n",
              "      <td>9</td>\n",
              "      <td>Yes</td>\n",
              "      <td>Yes</td>\n",
              "      <td>DSL</td>\n",
              "      <td>...</td>\n",
              "      <td>No</td>\n",
              "      <td>No</td>\n",
              "      <td>No</td>\n",
              "      <td>No</td>\n",
              "      <td>Yes</td>\n",
              "      <td>Month-to-month</td>\n",
              "      <td>No</td>\n",
              "      <td>Mailed check</td>\n",
              "      <td>59.9</td>\n",
              "      <td>542.40</td>\n",
              "    </tr>\n",
              "    <tr>\n",
              "      <th>2</th>\n",
              "      <td>0004-TLHLJ</td>\n",
              "      <td>1</td>\n",
              "      <td>Male</td>\n",
              "      <td>0</td>\n",
              "      <td>No</td>\n",
              "      <td>No</td>\n",
              "      <td>4</td>\n",
              "      <td>Yes</td>\n",
              "      <td>No</td>\n",
              "      <td>Fiber optic</td>\n",
              "      <td>...</td>\n",
              "      <td>No</td>\n",
              "      <td>Yes</td>\n",
              "      <td>No</td>\n",
              "      <td>No</td>\n",
              "      <td>No</td>\n",
              "      <td>Month-to-month</td>\n",
              "      <td>Yes</td>\n",
              "      <td>Electronic check</td>\n",
              "      <td>73.9</td>\n",
              "      <td>280.85</td>\n",
              "    </tr>\n",
              "    <tr>\n",
              "      <th>3</th>\n",
              "      <td>0011-IGKFF</td>\n",
              "      <td>1</td>\n",
              "      <td>Male</td>\n",
              "      <td>1</td>\n",
              "      <td>Yes</td>\n",
              "      <td>No</td>\n",
              "      <td>13</td>\n",
              "      <td>Yes</td>\n",
              "      <td>No</td>\n",
              "      <td>Fiber optic</td>\n",
              "      <td>...</td>\n",
              "      <td>Yes</td>\n",
              "      <td>Yes</td>\n",
              "      <td>No</td>\n",
              "      <td>Yes</td>\n",
              "      <td>Yes</td>\n",
              "      <td>Month-to-month</td>\n",
              "      <td>Yes</td>\n",
              "      <td>Electronic check</td>\n",
              "      <td>98.0</td>\n",
              "      <td>1237.85</td>\n",
              "    </tr>\n",
              "    <tr>\n",
              "      <th>4</th>\n",
              "      <td>0013-EXCHZ</td>\n",
              "      <td>1</td>\n",
              "      <td>Female</td>\n",
              "      <td>1</td>\n",
              "      <td>Yes</td>\n",
              "      <td>No</td>\n",
              "      <td>3</td>\n",
              "      <td>Yes</td>\n",
              "      <td>No</td>\n",
              "      <td>Fiber optic</td>\n",
              "      <td>...</td>\n",
              "      <td>No</td>\n",
              "      <td>No</td>\n",
              "      <td>Yes</td>\n",
              "      <td>Yes</td>\n",
              "      <td>No</td>\n",
              "      <td>Month-to-month</td>\n",
              "      <td>Yes</td>\n",
              "      <td>Mailed check</td>\n",
              "      <td>83.9</td>\n",
              "      <td>267.40</td>\n",
              "    </tr>\n",
              "  </tbody>\n",
              "</table>\n",
              "<p>5 rows × 21 columns</p>\n",
              "</div>\n",
              "    <div class=\"colab-df-buttons\">\n",
              "\n",
              "  <div class=\"colab-df-container\">\n",
              "    <button class=\"colab-df-convert\" onclick=\"convertToInteractive('df-854a7420-0fcf-4a1b-8bbe-e024710c9c4d')\"\n",
              "            title=\"Convert this dataframe to an interactive table.\"\n",
              "            style=\"display:none;\">\n",
              "\n",
              "  <svg xmlns=\"http://www.w3.org/2000/svg\" height=\"24px\" viewBox=\"0 -960 960 960\">\n",
              "    <path d=\"M120-120v-720h720v720H120Zm60-500h600v-160H180v160Zm220 220h160v-160H400v160Zm0 220h160v-160H400v160ZM180-400h160v-160H180v160Zm440 0h160v-160H620v160ZM180-180h160v-160H180v160Zm440 0h160v-160H620v160Z\"/>\n",
              "  </svg>\n",
              "    </button>\n",
              "\n",
              "  <style>\n",
              "    .colab-df-container {\n",
              "      display:flex;\n",
              "      gap: 12px;\n",
              "    }\n",
              "\n",
              "    .colab-df-convert {\n",
              "      background-color: #E8F0FE;\n",
              "      border: none;\n",
              "      border-radius: 50%;\n",
              "      cursor: pointer;\n",
              "      display: none;\n",
              "      fill: #1967D2;\n",
              "      height: 32px;\n",
              "      padding: 0 0 0 0;\n",
              "      width: 32px;\n",
              "    }\n",
              "\n",
              "    .colab-df-convert:hover {\n",
              "      background-color: #E2EBFA;\n",
              "      box-shadow: 0px 1px 2px rgba(60, 64, 67, 0.3), 0px 1px 3px 1px rgba(60, 64, 67, 0.15);\n",
              "      fill: #174EA6;\n",
              "    }\n",
              "\n",
              "    .colab-df-buttons div {\n",
              "      margin-bottom: 4px;\n",
              "    }\n",
              "\n",
              "    [theme=dark] .colab-df-convert {\n",
              "      background-color: #3B4455;\n",
              "      fill: #D2E3FC;\n",
              "    }\n",
              "\n",
              "    [theme=dark] .colab-df-convert:hover {\n",
              "      background-color: #434B5C;\n",
              "      box-shadow: 0px 1px 3px 1px rgba(0, 0, 0, 0.15);\n",
              "      filter: drop-shadow(0px 1px 2px rgba(0, 0, 0, 0.3));\n",
              "      fill: #FFFFFF;\n",
              "    }\n",
              "  </style>\n",
              "\n",
              "    <script>\n",
              "      const buttonEl =\n",
              "        document.querySelector('#df-854a7420-0fcf-4a1b-8bbe-e024710c9c4d button.colab-df-convert');\n",
              "      buttonEl.style.display =\n",
              "        google.colab.kernel.accessAllowed ? 'block' : 'none';\n",
              "\n",
              "      async function convertToInteractive(key) {\n",
              "        const element = document.querySelector('#df-854a7420-0fcf-4a1b-8bbe-e024710c9c4d');\n",
              "        const dataTable =\n",
              "          await google.colab.kernel.invokeFunction('convertToInteractive',\n",
              "                                                    [key], {});\n",
              "        if (!dataTable) return;\n",
              "\n",
              "        const docLinkHtml = 'Like what you see? Visit the ' +\n",
              "          '<a target=\"_blank\" href=https://colab.research.google.com/notebooks/data_table.ipynb>data table notebook</a>'\n",
              "          + ' to learn more about interactive tables.';\n",
              "        element.innerHTML = '';\n",
              "        dataTable['output_type'] = 'display_data';\n",
              "        await google.colab.output.renderOutput(dataTable, element);\n",
              "        const docLink = document.createElement('div');\n",
              "        docLink.innerHTML = docLinkHtml;\n",
              "        element.appendChild(docLink);\n",
              "      }\n",
              "    </script>\n",
              "  </div>\n",
              "\n",
              "\n",
              "    <div id=\"df-682d82dc-20e9-4db9-8a9e-6db81d582c70\">\n",
              "      <button class=\"colab-df-quickchart\" onclick=\"quickchart('df-682d82dc-20e9-4db9-8a9e-6db81d582c70')\"\n",
              "                title=\"Suggest charts\"\n",
              "                style=\"display:none;\">\n",
              "\n",
              "<svg xmlns=\"http://www.w3.org/2000/svg\" height=\"24px\"viewBox=\"0 0 24 24\"\n",
              "     width=\"24px\">\n",
              "    <g>\n",
              "        <path d=\"M19 3H5c-1.1 0-2 .9-2 2v14c0 1.1.9 2 2 2h14c1.1 0 2-.9 2-2V5c0-1.1-.9-2-2-2zM9 17H7v-7h2v7zm4 0h-2V7h2v10zm4 0h-2v-4h2v4z\"/>\n",
              "    </g>\n",
              "</svg>\n",
              "      </button>\n",
              "\n",
              "<style>\n",
              "  .colab-df-quickchart {\n",
              "      --bg-color: #E8F0FE;\n",
              "      --fill-color: #1967D2;\n",
              "      --hover-bg-color: #E2EBFA;\n",
              "      --hover-fill-color: #174EA6;\n",
              "      --disabled-fill-color: #AAA;\n",
              "      --disabled-bg-color: #DDD;\n",
              "  }\n",
              "\n",
              "  [theme=dark] .colab-df-quickchart {\n",
              "      --bg-color: #3B4455;\n",
              "      --fill-color: #D2E3FC;\n",
              "      --hover-bg-color: #434B5C;\n",
              "      --hover-fill-color: #FFFFFF;\n",
              "      --disabled-bg-color: #3B4455;\n",
              "      --disabled-fill-color: #666;\n",
              "  }\n",
              "\n",
              "  .colab-df-quickchart {\n",
              "    background-color: var(--bg-color);\n",
              "    border: none;\n",
              "    border-radius: 50%;\n",
              "    cursor: pointer;\n",
              "    display: none;\n",
              "    fill: var(--fill-color);\n",
              "    height: 32px;\n",
              "    padding: 0;\n",
              "    width: 32px;\n",
              "  }\n",
              "\n",
              "  .colab-df-quickchart:hover {\n",
              "    background-color: var(--hover-bg-color);\n",
              "    box-shadow: 0 1px 2px rgba(60, 64, 67, 0.3), 0 1px 3px 1px rgba(60, 64, 67, 0.15);\n",
              "    fill: var(--button-hover-fill-color);\n",
              "  }\n",
              "\n",
              "  .colab-df-quickchart-complete:disabled,\n",
              "  .colab-df-quickchart-complete:disabled:hover {\n",
              "    background-color: var(--disabled-bg-color);\n",
              "    fill: var(--disabled-fill-color);\n",
              "    box-shadow: none;\n",
              "  }\n",
              "\n",
              "  .colab-df-spinner {\n",
              "    border: 2px solid var(--fill-color);\n",
              "    border-color: transparent;\n",
              "    border-bottom-color: var(--fill-color);\n",
              "    animation:\n",
              "      spin 1s steps(1) infinite;\n",
              "  }\n",
              "\n",
              "  @keyframes spin {\n",
              "    0% {\n",
              "      border-color: transparent;\n",
              "      border-bottom-color: var(--fill-color);\n",
              "      border-left-color: var(--fill-color);\n",
              "    }\n",
              "    20% {\n",
              "      border-color: transparent;\n",
              "      border-left-color: var(--fill-color);\n",
              "      border-top-color: var(--fill-color);\n",
              "    }\n",
              "    30% {\n",
              "      border-color: transparent;\n",
              "      border-left-color: var(--fill-color);\n",
              "      border-top-color: var(--fill-color);\n",
              "      border-right-color: var(--fill-color);\n",
              "    }\n",
              "    40% {\n",
              "      border-color: transparent;\n",
              "      border-right-color: var(--fill-color);\n",
              "      border-top-color: var(--fill-color);\n",
              "    }\n",
              "    60% {\n",
              "      border-color: transparent;\n",
              "      border-right-color: var(--fill-color);\n",
              "    }\n",
              "    80% {\n",
              "      border-color: transparent;\n",
              "      border-right-color: var(--fill-color);\n",
              "      border-bottom-color: var(--fill-color);\n",
              "    }\n",
              "    90% {\n",
              "      border-color: transparent;\n",
              "      border-bottom-color: var(--fill-color);\n",
              "    }\n",
              "  }\n",
              "</style>\n",
              "\n",
              "      <script>\n",
              "        async function quickchart(key) {\n",
              "          const quickchartButtonEl =\n",
              "            document.querySelector('#' + key + ' button');\n",
              "          quickchartButtonEl.disabled = true;  // To prevent multiple clicks.\n",
              "          quickchartButtonEl.classList.add('colab-df-spinner');\n",
              "          try {\n",
              "            const charts = await google.colab.kernel.invokeFunction(\n",
              "                'suggestCharts', [key], {});\n",
              "          } catch (error) {\n",
              "            console.error('Error during call to suggestCharts:', error);\n",
              "          }\n",
              "          quickchartButtonEl.classList.remove('colab-df-spinner');\n",
              "          quickchartButtonEl.classList.add('colab-df-quickchart-complete');\n",
              "        }\n",
              "        (() => {\n",
              "          let quickchartButtonEl =\n",
              "            document.querySelector('#df-682d82dc-20e9-4db9-8a9e-6db81d582c70 button');\n",
              "          quickchartButtonEl.style.display =\n",
              "            google.colab.kernel.accessAllowed ? 'block' : 'none';\n",
              "        })();\n",
              "      </script>\n",
              "    </div>\n",
              "\n",
              "    </div>\n",
              "  </div>\n"
            ],
            "application/vnd.google.colaboratory.intrinsic+json": {
              "type": "dataframe",
              "variable_name": "data"
            }
          },
          "metadata": {},
          "execution_count": 2
        }
      ],
      "source": [
        "\n",
        "# Cargar los datos tratados (sube 'datos_tratados.csv' al mismo repo)\n",
        "data = pd.read_csv(\"datos_tratados.csv\")\n",
        "\n",
        "print(\"Dimensiones:\", data.shape)\n",
        "data.head()\n"
      ]
    },
    {
      "cell_type": "markdown",
      "id": "599b6dfb",
      "metadata": {
        "id": "599b6dfb"
      },
      "source": [
        "## 2. Análisis Exploratorio de Datos (EDA)"
      ]
    },
    {
      "cell_type": "code",
      "execution_count": 3,
      "id": "cd14378c",
      "metadata": {
        "colab": {
          "base_uri": "https://localhost:8080/",
          "height": 541
        },
        "id": "cd14378c",
        "outputId": "2e263c25-5d42-4f8d-e813-3c57e8c9919e"
      },
      "outputs": [
        {
          "output_type": "display_data",
          "data": {
            "text/plain": [
              "<Figure size 640x480 with 1 Axes>"
            ],
            "image/png": "[encoded data removed]"
          },
          "metadata": {}
        },
        {
          "output_type": "stream",
          "name": "stdout",
          "text": [
            "Churn\n",
            "0    0.73463\n",
            "1    0.26537\n",
            "Name: proportion, dtype: float64\n"
          ]
        }
      ],
      "source": [
        "\n",
        "# Distribución de la variable objetivo\n",
        "sns.countplot(x=\"Churn\", data=data)\n",
        "plt.title(\"Distribución de la variable Churn\")\n",
        "plt.show()\n",
        "\n",
        "print(data[\"Churn\"].value_counts(normalize=True))\n"
      ]
    },
    {
      "cell_type": "markdown",
      "id": "f288460b",
      "metadata": {
        "id": "f288460b"
      },
      "source": [
        "## 3. Preprocesamiento de Datos"
      ]
    },
    {
      "cell_type": "code",
      "execution_count": 4,
      "id": "05adc2a4",
      "metadata": {
        "colab": {
          "base_uri": "https://localhost:8080/"
        },
        "id": "05adc2a4",
        "outputId": "c521860c-b57c-4326-bf93-ddd7efd77361"
      },
      "outputs": [
        {
          "output_type": "stream",
          "name": "stdout",
          "text": [
            "Dimensiones de X: (7043, 30)\n",
            "Dimensiones de y: (7043,)\n"
          ]
        }
      ],
      "source": [
        "\n",
        "# Eliminamos columnas irrelevantes\n",
        "X = data.drop(columns=[\"Churn\", \"customerID\"], errors=\"ignore\")\n",
        "y = data[\"Churn\"]\n",
        "\n",
        "# Convertimos variables categóricas a numéricas (dummies)\n",
        "X = pd.get_dummies(X, drop_first=True)\n",
        "\n",
        "print(\"Dimensiones de X:\", X.shape)\n",
        "print(\"Dimensiones de y:\", y.shape)\n"
      ]
    },
    {
      "cell_type": "markdown",
      "id": "e9d82881",
      "metadata": {
        "id": "e9d82881"
      },
      "source": [
        "## 4. División de Datos y Balanceo con SMOTE"
      ]
    },
    {
      "cell_type": "code",
      "execution_count": 6,
      "id": "e2661a8e",
      "metadata": {
        "colab": {
          "base_uri": "https://localhost:8080/"
        },
        "id": "e2661a8e",
        "outputId": "648ea28b-da45-430f-a139-7a3c76cad765"
      },
      "outputs": [
        {
          "output_type": "stream",
          "name": "stdout",
          "text": [
            "Distribución después de SMOTE:\n",
            "Churn\n",
            "0    3622\n",
            "1    3622\n",
            "Name: count, dtype: int64\n"
          ]
        }
      ],
      "source": [
        "from sklearn.impute import SimpleImputer\n",
        "\n",
        "# Eliminamos columnas irrelevantes (ejemplo: customerID si existe)\n",
        "X = data.drop(columns=[\"Churn\", \"customerID\"], errors=\"ignore\")\n",
        "y = data[\"Churn\"]\n",
        "\n",
        "# Convertir categóricas a dummies\n",
        "X = pd.get_dummies(X, drop_first=True)\n",
        "\n",
        "# Imputar valores faltantes (media para numéricos)\n",
        "imputer = SimpleImputer(strategy=\"median\")\n",
        "X_imputed = pd.DataFrame(imputer.fit_transform(X), columns=X.columns)\n",
        "\n",
        "# División de datos\n",
        "X_train, X_test, y_train, y_test = train_test_split(\n",
        "    X_imputed, y, test_size=0.3, random_state=42, stratify=y\n",
        ")\n",
        "\n",
        "# Balanceo con SMOTE\n",
        "smote = SMOTE(random_state=42)\n",
        "X_train_res, y_train_res = smote.fit_resample(X_train, y_train)\n",
        "\n",
        "print(\"Distribución después de SMOTE:\")\n",
        "print(y_train_res.value_counts())"
      ]
    },
    {
      "cell_type": "markdown",
      "id": "d5b4fea5",
      "metadata": {
        "id": "d5b4fea5"
      },
      "source": [
        "## 5. Normalización de Datos"
      ]
    },
    {
      "cell_type": "code",
      "execution_count": 7,
      "id": "b126b951",
      "metadata": {
        "id": "b126b951"
      },
      "outputs": [],
      "source": [
        "\n",
        "scaler = StandardScaler()\n",
        "X_train_res_scaled = scaler.fit_transform(X_train_res)\n",
        "X_test_scaled = scaler.transform(X_test)\n"
      ]
    },
    {
      "cell_type": "markdown",
      "id": "6386eff2",
      "metadata": {
        "id": "6386eff2"
      },
      "source": [
        "## 6. Modelado: Regresión Logística"
      ]
    },
    {
      "cell_type": "code",
      "execution_count": 8,
      "id": "8aa41278",
      "metadata": {
        "colab": {
          "base_uri": "https://localhost:8080/"
        },
        "id": "8aa41278",
        "outputId": "9026c6b9-43d1-47c5-d4f9-b4502f337bcb"
      },
      "outputs": [
        {
          "output_type": "stream",
          "name": "stdout",
          "text": [
            "Accuracy: 0.7458589682915286\n",
            "\n",
            "Matriz de confusión:\n",
            " [[1127  425]\n",
            " [ 112  449]]\n",
            "\n",
            "Reporte de clasificación:\n",
            "               precision    recall  f1-score   support\n",
            "\n",
            "           0       0.91      0.73      0.81      1552\n",
            "           1       0.51      0.80      0.63       561\n",
            "\n",
            "    accuracy                           0.75      2113\n",
            "   macro avg       0.71      0.76      0.72      2113\n",
            "weighted avg       0.80      0.75      0.76      2113\n",
            "\n"
          ]
        }
      ],
      "source": [
        "\n",
        "# Entrenar modelo\n",
        "model = LogisticRegression(max_iter=1000, random_state=42)\n",
        "model.fit(X_train_res_scaled, y_train_res)\n",
        "\n",
        "# Predicciones\n",
        "y_pred = model.predict(X_test_scaled)\n",
        "\n",
        "# Evaluación\n",
        "print(\"Accuracy:\", accuracy_score(y_test, y_pred))\n",
        "print(\"\\nMatriz de confusión:\\n\", confusion_matrix(y_test, y_pred))\n",
        "print(\"\\nReporte de clasificación:\\n\", classification_report(y_test, y_pred))\n"
      ]
    },
    {
      "cell_type": "markdown",
      "source": [
        "**Conclusiones y próximos pasos**\n",
        "\n",
        "* Es posible predecir clientes con riesgo de churn con métricas competitivas.\n",
        "* Variables como tenure, tipo de contrato, cargos mensuales y método de pago son claves.\n",
        "\n",
        "**Próximas mejoras:**\n",
        "\n",
        "* Ajustar hiperparámetros con Grid Search.\n",
        "* Probar modelos más avanzados (XGBoost, LightGBM).\n",
        "* Incorporar análisis de costos para definir umbrales óptimos de predicción."
      ],
      "metadata": {
        "id": "o0gBK2zj4sbR"
      },
      "id": "o0gBK2zj4sbR"
    }
  ],
  "metadata": {
    "colab": {
      "provenance": []
    },
    "language_info": {
      "name": "python"
    },
    "kernelspec": {
      "name": "python3",
      "display_name": "Python 3"
    }
  },
  "nbformat": 4,
  "nbformat_minor": 5
}